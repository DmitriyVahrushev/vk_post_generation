{
 "cells": [
  {
   "cell_type": "code",
   "execution_count": 6,
   "metadata": {},
   "outputs": [],
   "source": [
    "import os\n",
    "import matplotlib.pyplot as plt\n",
    "%matplotlib inline\n",
    "import numpy as np\n",
    "import pandas as pd"
   ]
  },
  {
   "cell_type": "code",
   "execution_count": 1,
   "metadata": {},
   "outputs": [],
   "source": [
    "with open('../data/posts.txt') as input_file:\n",
    "    posts = input_file.read()[:-1].split('---')"
   ]
  },
  {
   "cell_type": "code",
   "execution_count": 4,
   "metadata": {},
   "outputs": [
    {
     "data": {
      "text/plain": [
       "138"
      ]
     },
     "execution_count": 4,
     "metadata": {},
     "output_type": "execute_result"
    }
   ],
   "source": [
    "len(posts)"
   ]
  },
  {
   "cell_type": "code",
   "execution_count": 8,
   "metadata": {},
   "outputs": [],
   "source": [
    "sentences = []\n",
    "for post in posts:\n",
    "    sentences.extend(post.split('\\n'))"
   ]
  },
  {
   "cell_type": "code",
   "execution_count": 10,
   "metadata": {},
   "outputs": [
    {
     "data": {
      "text/plain": [
       "1959"
      ]
     },
     "execution_count": 10,
     "metadata": {},
     "output_type": "execute_result"
    }
   ],
   "source": [
    "len(sentences)"
   ]
  },
  {
   "cell_type": "code",
   "execution_count": 12,
   "metadata": {},
   "outputs": [],
   "source": [
    "sentences = [sentence for sentence in sentences if sentence != '']"
   ]
  },
  {
   "cell_type": "code",
   "execution_count": 13,
   "metadata": {},
   "outputs": [
    {
     "data": {
      "text/plain": [
       "1244"
      ]
     },
     "execution_count": 13,
     "metadata": {},
     "output_type": "execute_result"
    }
   ],
   "source": [
    "len(sentences)"
   ]
  },
  {
   "cell_type": "code",
   "execution_count": 15,
   "metadata": {},
   "outputs": [
    {
     "data": {
      "text/plain": [
       "(array([637., 238., 151., 108.,  51.,  27.,  19.,   9.,   2.,   2.]),\n",
       " array([  2. ,  72.8, 143.6, 214.4, 285.2, 356. , 426.8, 497.6, 568.4,\n",
       "        639.2, 710. ]),\n",
       " <a list of 10 Patch objects>)"
      ]
     },
     "execution_count": 15,
     "metadata": {},
     "output_type": "execute_result"
    },
    {
     "data": {
      "image/png": "[encoded data removed]",
      "text/plain": [
       "<Figure size 432x288 with 1 Axes>"
      ]
     },
     "metadata": {
      "needs_background": "light"
     },
     "output_type": "display_data"
    }
   ],
   "source": [
    "plt.hist(list(map(len, sentences)))"
   ]
  },
  {
   "cell_type": "code",
   "execution_count": 16,
   "metadata": {},
   "outputs": [
    {
     "name": "stdout",
     "output_type": "stream",
     "text": [
      "num_tokens =  151\n"
     ]
    }
   ],
   "source": [
    "#all unique characters go here\n",
    "tokens = list(set(''.join(sentences)))\n",
    "\n",
    "num_tokens = len(tokens)\n",
    "print ('num_tokens = ', num_tokens)"
   ]
  },
  {
   "cell_type": "code",
   "execution_count": 17,
   "metadata": {},
   "outputs": [],
   "source": [
    "token_to_id = {token: idx for idx, token in enumerate(tokens)}"
   ]
  },
  {
   "cell_type": "code",
   "execution_count": 18,
   "metadata": {},
   "outputs": [
    {
     "name": "stdout",
     "output_type": "stream",
     "text": [
      "Seems alright!\n"
     ]
    }
   ],
   "source": [
    "assert len(tokens) == len(token_to_id), \"dictionaries must have same size\"\n",
    "\n",
    "for i in range(num_tokens):\n",
    "    assert token_to_id[tokens[i]] == i, \"token identifier must be it's position in tokens list\"\n",
    "\n",
    "print(\"Seems alright!\")"
   ]
  },
  {
   "cell_type": "code",
   "execution_count": 19,
   "metadata": {},
   "outputs": [],
   "source": [
    "def to_matrix(data, token_to_id, max_len=None, dtype='int32', batch_first = True):\n",
    "    \"\"\"Casts a list of names into rnn-digestable matrix\"\"\"\n",
    "    \n",
    "    max_len = max_len or max(map(len, data))\n",
    "    data_ix = np.zeros([len(data), max_len], dtype) + token_to_id[' ']\n",
    "\n",
    "    for i in range(len(data)):\n",
    "        line_ix = [token_to_id[c] for c in data[i]]\n",
    "        data_ix[i, :len(line_ix)] = line_ix\n",
    "        \n",
    "    if not batch_first: # convert [batch, time] into [time, batch]\n",
    "        data_ix = np.transpose(data_ix)\n",
    "\n",
    "    return data_ix"
   ]
  },
  {
   "cell_type": "code",
   "execution_count": 23,
   "metadata": {},
   "outputs": [
    {
     "name": "stdout",
     "output_type": "stream",
     "text": [
      "Привет, меня зовут Дима! Моя цель - стать учёным в области искусственного интеллекта. У меня есть план как достичь этого (его я распишу позднее), а здесь я буду вести публичный дневник, где буду делиться своими результатами, всякими интересными материалами, а также делать популярный пересказ того, чему научился за день.\n",
      "[[145 102 135  11 129 101 136   5  56 129 144  14   5  35  67  11 119 101\n",
      "    5  53 135  56  49  78   5  73  67  14   5 108 129 115 147   5  17   5\n",
      "   80 101  49 101 147   5 119 133 104 144 117  56   5  11   5  67  36 115\n",
      "   49  80 101 135   5 135  80 146 119  80  80 101  11 129 144 144  67  25\n",
      "   67   5 135 144 101 129 115 115 129 146 101  49  15   5 114   5  56 129\n",
      "  144  14   5 129  80 101 147   5  69 115  49 144   5 146  49 146   5 132\n",
      "   67  80 101 135 133 147   5 137 101  67  25  67   5  79 129  25  67   5\n",
      "   14   5 102  49  80  69 135  39 119   5  69  67  35 132 144 129 129  82\n",
      "  136   5  49   5  35 132 129  80 147   5  14   5  36 119 132 119   5  11\n",
      "  129  80 101 135   5  69 119  36 115 135 133 144 117  62   5 132 144 129\n",
      "   11 144 135 146 136   5  25 132 129   5  36 119 132 119   5 132 129 115\n",
      "  135 101 147  80  14   5  80  11  67 135  56 135   5 102 129  35 119 115\n",
      "  147 101  49 101  49  56 135 136   5  11  80  14 146 135  56 135   5 135\n",
      "  144 101 129 102 129  80 144 117  56 135   5  56  49 101 129 102 135  49\n",
      "  115  49  56 135 136   5  49   5 101  49 146  44 129   5 132 129 115  49\n",
      "  101 147   5  69  67  69 119 115  14 102 144 117  62   5  69 129 102 129\n",
      "   80 146  49  35   5 101  67  25  67 136   5 133 129  56 119   5 144  49\n",
      "  119 133 135 115  80  14   5  35  49   5 132 129 144 147  15]]\n"
     ]
    }
   ],
   "source": [
    "#Example: cast 4 names to matrices, pad with zeros\n",
    "print('\\n'.join(sentences[::2000]))\n",
    "print(to_matrix(sentences[::2000], token_to_id))"
   ]
  },
  {
   "cell_type": "code",
   "execution_count": null,
   "metadata": {},
   "outputs": [],
   "source": []
  }
 ],
 "metadata": {
  "kernelspec": {
   "display_name": "Python 3",
   "language": "python",
   "name": "python3"
  },
  "language_info": {
   "codemirror_mode": {
    "name": "ipython",
    "version": 3
   },
   "file_extension": ".py",
   "mimetype": "text/x-python",
   "name": "python",
   "nbconvert_exporter": "python",
   "pygments_lexer": "ipython3",
   "version": "3.7.6"
  }
 },
 "nbformat": 4,
 "nbformat_minor": 4
}
